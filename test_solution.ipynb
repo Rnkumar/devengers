{
 "cells": [
  {
   "cell_type": "code",
   "execution_count": 1,
   "metadata": {},
   "outputs": [],
   "source": [
    "#importing required packages\n",
    "import pandas as pd\n",
    "import numpy as np\n",
    "from sklearn.ensemble import RandomForestClassifier\n",
    "from sklearn import preprocessing\n",
    "from sklearn.metrics import accuracy_score,confusion_matrix\n",
    "from sklearn.model_selection import train_test_split"
   ]
  },
  {
   "cell_type": "code",
   "execution_count": 20,
   "metadata": {},
   "outputs": [],
   "source": [
    "df = pd.read_csv('trainms.csv')\n",
    "# df.columns"
   ]
  },
  {
   "cell_type": "code",
   "execution_count": 77,
   "metadata": {},
   "outputs": [],
   "source": [
    "df['work_interfere']=df['work_interfere'].fillna(\"Maybe\")\n",
    "df['self_employed']=df['self_employed'].fillna(\"Dont Know\")"
   ]
  },
  {
   "cell_type": "code",
   "execution_count": 97,
   "metadata": {},
   "outputs": [
    {
     "name": "stdout",
     "output_type": "stream",
     "text": [
      "127\n",
      "51\n",
      "I'm not on my company's health insurance which could be part of the reason I answered Don't know to so many questions.\n",
      "In Russia we have mandatory medical insurance. Every employer must pay 3.6% of every employee's salary to the insurance fund like a tax. Everyone gets free healthcare at public clinics and hospitals. Some types of healthcare including mental health are still funded from the government budget but that doesn't matter it's still FREE!However this is Russia :D I don't know much about what actually happens in mental hospitals here except that a lot of young people with male in their passports use these to avoid military draft and doctors seem to help them.\n",
      "I'd be more worried about coworkers and workplace culture than the employer--they're probably legally obligated to do some things but reputation among people I work with is something else. For instance I've heard people make snide remarks about men taking paternity leave I don't want to know what they'd say about mental health leave.\n",
      "as a UK-based company we don't have any medical provisions as it's all provided on the National Health Service (for now!) However if we do need to take days off for any kind of health problems everyone is understanding :)\n",
      "A close family member of mine struggles with mental health so I try not to stigmatize it. My employers/coworkers also seem compassionate toward any kind of health or family needs.\n",
      "Too many people even especially IT considered mental health issues as a choice or something people can freely act about. You are depressed: take vacation. You feel weird: admit it is physical (otherwise it is not serious) go and see a doctor (and if you are on sick leave too many days you will get fired). You don't feel good today: take a holiday but don't work from home. In startup there is what I call the tyranny of happiness: you have to look happy to be accepted and to be worked with. At some point playing a role can definitely make the mental health issue worse and it is also a threat to diversity :(I don't like to call mental health issues an issue but actually when it comes to company field it too often becomes an issue and this is sad because working is sometimes better than medication. It is a vicious circle: people are scared of speaking about it so they don't inform their coworkers about what mental health is for real and so coworkers are so scared on a regular basis that the people with mental health issues keep it for themselves. \n",
      "When you are an introvert people don't notice if you are depressed. Its a vicious cycle of sorts.\n",
      "One of my coworkers has mental health issues and she's open about them (eg: my enjoyment of this project may be due to my recent change in meds). I believe the response has been generally supportive. We're a very small tight-knit company.\n",
      "A strong mind goes a long way. Stay strong. Take some time off to help. Its all in your head. \n",
      "Would you bring up a mental health issue with a potential employer in an interview?Poignant.\n",
      "No benefits at this organization but my employer/direct supervisor has had positive and constructive conversations with me about physical and mental health. Supervisor offered solutions advice time/energy to get help if I ever felt that needed it. (though it would have to be at my own expense). I feel safe sharing personal info with this particular person/company but this environment is the exception rather than the norm in my 15+ years as a tech worker. I would never feel safe enough to reveal info about any mental health concerns with any previous employers in the tech industry for fear of  negative perceptions job loss performance dings etc. \n",
      "It's a small startup in a small city in a small country.\n",
      "The thought of going through my employer directly to get help is fucking scary.Getting help is the hardest part of getting help.\n",
      "Don't know because I haven't checked not because it's difficult to find out. If you didn't have the don't know option I would've looked up the answer.\n",
      "I think there might be some bugs in my thought but I haven't sought treatment because they're not worse than annoying and I worry about having the label.\n",
      "I think a lot of our policy is based on a situation that occurred in the past 5 years. A very public mental illness happened with a coworker that unfortunately ended negatively. It was definitely a catalyst to talking about our options but the overall sentiment of it being OK to take time off talk with your supervisors etc. has always been there. It's a great company.\n",
      "Regardless of a stated lack of negative consequences for discussing mental health issues with coworkers/superiors unconscious bias is a very real thing - as long as I don't *need* to inform my co-workers my mental health issues do not need to be public knowledge.\n",
      "In Belgium we have all medical care so perhaps some question are not relevant\n",
      "A co-worker recently had mental health issues and my employer was very reasonable with them I don't know the full story but I do know that he was given ample time off and eased back in to the work place.\n",
      "Nice job on the text field for gender :-)\n",
      "I currently have the best managers I've ever worked with. I don't have any issues but one of my coworkers recently did and it was handled extremely well. \n",
      "Israel has public health insurance for everyone. Everyone has free mental health coverage and it's quite good. So that explains some of my answers.\n",
      "-\n",
      "I work for an extremely supportive company and we are amazingly open about mental health issues. Employees often share their struggles with the whole team and receive a high level of support in return.\n",
      "I'm not aware of anyone with mental health issues at work it's definitely not something that's discussed publicly. There's also a lot of other personal info I don't know about my coworkers so it may just be that we tend not to talk about personal issues.\n",
      "I'm afraid I haven't seen mental health issues arise at work yet. They are very accommodating with maternity leave but I don't know how that translates to anything else.\n",
      "Mental health issue I have dealt with: acute depression\n",
      "Most employers / coworkers and even immediate family is not all the time supportive to discuss depression and other problems. ie. My wife thinks she should be able to make sure that I am not depressed  which is funny because sometimes depression state has nothing to do with her. \n",
      "The supposed divide between mental and physical health needs to done away with and probably will be as our knowledge of the brain increases. That said we are often employed for our ability to provide value. If any issue prevents is from providing value that creates a very real challenge for the employer who is responsible to shareholders and other team members who are providing value. There are no easy answers here.\n",
      "I work for a very small firm that doesn't really have a dedicated H/R person. Also for the question:If you have a mental health condition do you feel that it interferes with your work?...I don't have a diagnosed mental health condition but I suspect I might have some slight depression issues. Definitely have Imposter Syndrome.\n",
      "We don't fucking talk about it ever.\n",
      "Majority of qs on survey not relevant if you are self employed\n",
      "I mostly suffer from social anxiety which keeps me from attending conferences. In my small dev group a big problem is a supervisor who's a workaholic and will never say no when asked to do something so he's doing the job of at least two ppl (poorly) and working crazy hours setting the tone for the test of us that work/life balance isn't important.\n",
      "I don't have any mental health issues but for a number of years I had to care for a family member who did and I felt that I was not able to discuss or get support from friends or colleagues in the same way that I might have if they had suffered from a physical condition.\n",
      "I am a contractor so my lack of knowledge of workplace wellness stems directly from my lack of access to that material since I am not covered by it. I am aware that mental health services are available and am aware of a colleague who has taken a leave of absence to deal with mental health issues but am otherwise uninformed.\n",
      "Fully remote developer\n",
      "We had a developer suffer from depression and pretty hard burnout but he refused treatment even when the company said we'd foot the bill. Eventually he had to be asked to resign which was a shame. I don't know if we have any specific programs for mental health but we're definitely on the lookout for those types of issues.\n",
      "Italians are somewhat behind for what concerns mental health care in the workplace.  Physical health care is very much accepted with a doctor that certifies your ailment.  Mental health is treated quite differently I believe because most people are willing to admit that physical ailments should be covered while mental ailments are almost considered non-existent in most respects.  \n",
      "I feel like most of my answers were useless due to answering that I am self-employed early on. Since my employer is me... my employer does/doesn't offer mental health benefits or would I be comfortable bring it up with 'them' doesn't make sense...\n",
      "Thank you for your work what you do is important!\n",
      "None of us who are already in marginal groups in tech--the non-young the non-male the non-white--will risk our careers to admit another source of stigma: poor health.\n",
      "While not personally affected I do have immediate family with mental health illness and my employer has been very supportive. Thanks for doing this survey.\n",
      "The company I work for was started by engineers and so anything other then the engineering department has always lacked a bit. Now that we've grown things are better but I feel that overall our total benefits package (including healthcare) isn't well communicated. This reflects negatively on the mental health questions above but would also reflect negatively on any other sort of survey about the benefits. That is I don't think the company is purposefully doing less for mental health. They just aren't doing enough across the board and that includes mental health.\n",
      "Thank you for all you are doing to study this topic and raise awareness in our communities. \n",
      "(yes but the situation was unusual and involved a change in leadership at a very high level in the organization as well as an extended leave of absence)\n",
      "I would add that while there were negative consequences for coworkers with mental health they were given a HUGE amount of leeway.  I think the team at large tried their best to be kind but that's how the person suffered.  The company actually gave this person a lot of help.  Which was cool.  But the team still discriminated.\n",
      "A lot of these answers aren't really applicable since I'm self employed as a sole proprietor.\n",
      "My employer gives access to basic counseling and referrals but I don't know (and it's not obvious) what might be covered in the way of expenses for therapy medication etc.\n",
      "* Small family business - YMMV.\n",
      "Some of these should not be required.\n",
      "Thank you for shining a light on this topic.\n"
     ]
    }
   ],
   "source": [
    "ax = df[df['comments'].isnull() == False]\n",
    "print(len(ax))\n",
    "no_comments = ax[ax['treatment']=='No'].comments\n",
    "print(len(no_comments))\n",
    "for i in range(len(no_comments)):\n",
    "    print(no_comments.iloc[i])"
   ]
  },
  {
   "cell_type": "code",
   "execution_count": null,
   "metadata": {},
   "outputs": [],
   "source": [
    "df[df['self_employed'].isnull()]"
   ]
  },
  {
   "cell_type": "code",
   "execution_count": 22,
   "metadata": {},
   "outputs": [],
   "source": [
    "temp = df.Gender\n",
    "temp = temp.replace(to_replace=[\"A little about you\",\"something kinda male?\",\"Enby\",\"fluid\",\"Genderqueer\",\"Trans-female\",\"Nah\",\"Androgyne\",\"Agender\",\"male leaning androgynous\",\"Trans woman\",\"Neuter\",\"Female (trans)\",\"queer\",\"non-binary\"],value=\"T\")\n",
    "temp = temp.replace([\"Female\",\"female\",\"Cis Female\",\"F\",\"Woman\",\"f\",\"Femake\",\"Female \",\"woman\",\"cis-female/femme\",\"Female (cis)\"],'F')\n",
    "temp = temp.replace([\"M\",\"Male\",\"male\",\"m\",\"Male-ish\",\"maile\",\"Cis Male\",\"Mal\",\"Male \",\"Make\",\"Guy (-ish) ^_^\",\"Man\",\"msle\",\"Mail\",\"cis male\"],'M')\n",
    "temp.unique()\n",
    "df.Gender = temp"
   ]
  },
  {
   "cell_type": "code",
   "execution_count": null,
   "metadata": {},
   "outputs": [],
   "source": [
    "temp_df = df.drop(columns=['state','comments','s.no','Timestamp'])\n",
    "le = preprocessing.LabelEncoder()\n",
    "temp_df = temp_df.apply(le.fit_transform)\n",
    "temp_df.plot('Country','treatment', 'scatter', alpha=0.01, figsize=(10,8))"
   ]
  },
  {
   "cell_type": "code",
   "execution_count": 54,
   "metadata": {},
   "outputs": [],
   "source": [
    "to_drop_columns = ['treatment','state','comments','s.no','Timestamp']+['Country','supervisor','coworkers','phys_health_interview','anonymity','self_employed','remote_work','tech_company','obs_consequence','phys_health_consequence','seek_help','Gender']"
   ]
  },
  {
   "cell_type": "code",
   "execution_count": 55,
   "metadata": {},
   "outputs": [],
   "source": [
    "features = df.drop(columns=to_drop_columns)\n",
    "target = df.treatment\n",
    "\n",
    "le = preprocessing.LabelEncoder()\n",
    "features = features.apply(le.fit_transform)\n",
    "labels,uniques = pd.factorize(target)\n",
    "\n",
    "X_train, X_test, y_train, y_test = train_test_split(features, labels, test_size=0.33, random_state=42)\n"
   ]
  },
  {
   "cell_type": "code",
   "execution_count": 75,
   "metadata": {},
   "outputs": [
    {
     "name": "stderr",
     "output_type": "stream",
     "text": [
      "/usr/local/lib/python3.7/dist-packages/sklearn/ensemble/forest.py:245: FutureWarning: The default value of n_estimators will change from 10 in version 0.20 to 100 in 0.22.\n",
      "  \"10 in version 0.20 to 100 in 0.22.\", FutureWarning)\n"
     ]
    },
    {
     "data": {
      "text/plain": [
       "RandomForestClassifier(bootstrap=True, class_weight=None, criterion='gini',\n",
       "                       max_depth=None, max_features='auto', max_leaf_nodes=None,\n",
       "                       min_impurity_decrease=0.0, min_impurity_split=None,\n",
       "                       min_samples_leaf=1, min_samples_split=2,\n",
       "                       min_weight_fraction_leaf=0.0, n_estimators=10, n_jobs=-1,\n",
       "                       oob_score=False, random_state=0, verbose=0,\n",
       "                       warm_start=False)"
      ]
     },
     "execution_count": 75,
     "metadata": {},
     "output_type": "execute_result"
    }
   ],
   "source": [
    "# Create a random forest Classifier. By convention, clf means 'Classifier'\n",
    "clf = RandomForestClassifier(n_jobs=-1, random_state=0)\n",
    "\n",
    "# Train the Classifier to take the training features and learn how they relate\n",
    "# to the training y (the species)\n",
    "clf.fit(X_train, y_train)"
   ]
  },
  {
   "cell_type": "code",
   "execution_count": null,
   "metadata": {},
   "outputs": [],
   "source": [
    "\n",
    "# for i in range(len(clf.estimators_)):\n",
    "i=0\n",
    "estimator = clf.estimators_[i]\n",
    "\n",
    "from sklearn.tree import export_graphviz\n",
    "# Export as dot file\n",
    "export_graphviz(estimator, out_file='tree.dot', \n",
    "                feature_names = X_train.columns,\n",
    "                class_names = [\"Yes\" if i==0 else \"No\" for i in np.unique(y_train)],\n",
    "                rounded = True, proportion = False, \n",
    "                precision = 2, filled = True)\n",
    "\n",
    "# Convert to png using system command (requires Graphviz)\n",
    "from subprocess import call\n",
    "call(['dot', '-Tpdf', 'tree.dot', '-o', 'tree'+str(i)+'.pdf', '-Gdpi=600'])\n",
    "\n",
    "print(\"done\")\n",
    "\n",
    "# # Display in jupyter notebook\n",
    "# from IPython.display import Image\n",
    "# Image(filename = 'tree.png')"
   ]
  },
  {
   "cell_type": "code",
   "execution_count": 76,
   "metadata": {},
   "outputs": [
    {
     "name": "stdout",
     "output_type": "stream",
     "text": [
      "0.9761194029850746\n"
     ]
    },
    {
     "data": {
      "text/plain": [
       "[('Age', 0.13020557934412458),\n",
       " ('family_history', 0.05551588272472909),\n",
       " ('work_interfere', 0.38708967956489426),\n",
       " ('no_employees', 0.06841388603822231),\n",
       " ('benefits', 0.052714101302093044),\n",
       " ('care_options', 0.08521899407010927),\n",
       " ('wellness_program', 0.03309754535734645),\n",
       " ('leave', 0.058274791053761765),\n",
       " ('mental_health_consequence', 0.050995748814747124),\n",
       " ('mental_health_interview', 0.018771051114062257),\n",
       " ('mental_vs_physical', 0.05970274061590982)]"
      ]
     },
     "execution_count": 76,
     "metadata": {},
     "output_type": "execute_result"
    }
   ],
   "source": [
    "#Verify predictions\n",
    "train_predicted = clf.predict(X_train)\n",
    "\n",
    "accuracy = accuracy_score(y_train,train_predicted)\n",
    "print(accuracy)\n",
    "# print(confusion_matrix(labels,train_predicted))\n",
    "pd.crosstab(y_train, train_predicted, rownames=['Actual'], colnames=['Predicted'])\n",
    "list(zip(X_train, clf.feature_importances_))\n",
    "# xxxx = colmns\n",
    "# colmns= []\n",
    "# for i,j in importances:\n",
    "#     if j<0.02:\n",
    "#         colmns.append(i)\n",
    "# print(colmns)\n",
    "#                Predicted\n",
    "#                  No Yes\n",
    "#  Acutal    No\n",
    "#            Yes"
   ]
  },
  {
   "cell_type": "code",
   "execution_count": 74,
   "metadata": {
    "scrolled": true
   },
   "outputs": [
    {
     "name": "stdout",
     "output_type": "stream",
     "text": [
      "0.8090909090909091\n"
     ]
    }
   ],
   "source": [
    "test_predicted = clf.predict(X_test)\n",
    "accuracy = accuracy_score(y_test,test_predicted)\n",
    "print(accuracy)"
   ]
  },
  {
   "cell_type": "code",
   "execution_count": null,
   "metadata": {},
   "outputs": [],
   "source": [
    "from pdpbox import pdp\n",
    "from plotnine import *\n",
    "\n",
    "# x=pd.DataFrame({'cols':X_train.columns, 'imp':clf.feature_importances_}).sort_values('imp', ascending=False)\n",
    "# plot_fi(x[:10])\n"
   ]
  },
  {
   "cell_type": "code",
   "execution_count": null,
   "metadata": {},
   "outputs": [],
   "source": [
    "test = pd.read_csv('testms.csv')\n",
    "temp = test.Age\n",
    "temp = temp.replace(to_replace=-1,value=22)\n",
    "test.Age = temp\n",
    "\n",
    "test['work_interfere']=test['work_interfere'].fillna(\"Maybe\")\n",
    "test['self_employed']=test['self_employed'].fillna(\"Dont Know\")"
   ]
  },
  {
   "cell_type": "code",
   "execution_count": null,
   "metadata": {},
   "outputs": [],
   "source": [
    "#Validate test gender\n",
    "temp = test.Gender\n",
    "temp = temp.replace(to_replace=[\"Male\",\"male\",\"m\",\"Malr\",\"Male \",\"Cis Man\"],value='M')\n",
    "temp = temp.replace(to_replace=[\"female\",\"F\",\"Female\",\"Woman\",\"femail\",\"f\"],value='F')\n",
    "temp = temp.replace(to_replace=[\"p\",\"Female (trans)\",\"ostensibly male, unsure what that really means\"],value='T')\n",
    "test.Gender = temp"
   ]
  },
  {
   "cell_type": "code",
   "execution_count": null,
   "metadata": {},
   "outputs": [],
   "source": [
    "#predict testing data\n",
    "col = to_drop_columns\n",
    "col.remove('treatment')\n",
    "test_features = test.drop(columns=col)\n",
    "le = preprocessing.LabelEncoder()\n",
    "test_features = test_features.apply(le.fit_transform)\n",
    "\n",
    "pred = clf.predict(test_features)"
   ]
  },
  {
   "cell_type": "code",
   "execution_count": null,
   "metadata": {},
   "outputs": [],
   "source": [
    "# Submission generation\n",
    "index = [str(i) for i in range(1,len(pred)+1)]\n",
    "values = ['Yes' if val==0 else 'No' for i,val in enumerate(pred)]\n",
    "submission_result = pd.DataFrame(values, index=index,columns=['treatment'])\n",
    "submission_result.index.name = \"s.no\"\n",
    "\n",
    "file_name=\"submission.csv\"\n",
    "submission_result.to_csv(file_name, sep=',')"
   ]
  }
 ],
 "metadata": {
  "kernelspec": {
   "display_name": "Python 3",
   "language": "python",
   "name": "python3"
  },
  "language_info": {
   "codemirror_mode": {
    "name": "ipython",
    "version": 3
   },
   "file_extension": ".py",
   "mimetype": "text/x-python",
   "name": "python",
   "nbconvert_exporter": "python",
   "pygments_lexer": "ipython3",
   "version": "3.7.3rc1"
  }
 },
 "nbformat": 4,
 "nbformat_minor": 2
}
